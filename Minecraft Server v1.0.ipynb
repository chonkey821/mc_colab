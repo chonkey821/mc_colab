{
  "nbformat": 4,
  "nbformat_minor": 0,
  "metadata": {
    "colab": {
      "name": "Minecraft Server v1.0.ipynb",
      "provenance": [],
      "toc_visible": true
    },
    "kernelspec": {
      "name": "python3",
      "display_name": "Python 3"
    }
  },
  "cells": [
    {
      "cell_type": "markdown",
      "metadata": {
        "id": "u8VPdNoJBK79"
      },
      "source": [
        "# **Minecraft Server in Google Colab!**\n",
        "\n",
        "created by tester247#2636"
      ]
    },
    {
      "cell_type": "markdown",
      "metadata": {
        "id": "ZfNn86bSRFTu"
      },
      "source": [
        "# Step 1: Creating the minecraft server folder in your *google* drive"
      ]
    },
    {
      "cell_type": "code",
      "metadata": {
        "id": "hMtnUPdj6qfC"
      },
      "source": [
        "!mkdir /content/drive/My Drive/MineCraft/\n",
        "%cd /content/drive/My Drive/MineCraft/"
      ],
      "execution_count": null,
      "outputs": []
    },
    {
      "cell_type": "code",
      "metadata": {
        "id": "z5SbncFaDNP6"
      },
      "source": [
        "from google.colab import drive\n",
        "drive.mount('/content/drive')"
      ],
      "execution_count": null,
      "outputs": []
    },
    {
      "cell_type": "markdown",
      "metadata": {
        "id": "jdqDUh44GKBm"
      },
      "source": [
        "## Step 2: Setup port-forwarding and hosting for your server"
      ]
    },
    {
      "cell_type": "markdown",
      "metadata": {
        "id": "rl1RP82GujuE"
      },
      "source": [
        "First go to https://dashboard.ngrok.com/ and create a account."
      ]
    },
    {
      "cell_type": "code",
      "metadata": {
        "id": "Sdo2Tj90QWUZ"
      },
      "source": [
        "! wget -q -c -nc https://bin.equinox.io/c/4VmDzA7iaHb/ngrok-stable-linux-amd64.zip\n",
        "! unzip -qq -n ngrok-stable-linux-amd64.zip"
      ],
      "execution_count": null,
      "outputs": []
    },
    {
      "cell_type": "code",
      "metadata": {
        "id": "EbFf1RTFPt_o"
      },
      "source": [
        "#First go to ngrok.com and make an account\n",
        "print(\"Get your authtoken from https://dashboard.ngrok.com/auth\")\n",
        "print(\"enter: 1ccmqcpLmosQJmWpEeoUJ2vIP9R_Wd3SmBne8XRvkgXgipCx\")\n",
        "import getpass\n",
        "authtoken = getpass.getpass()"
      ],
      "execution_count": null,
      "outputs": []
    },
    {
      "cell_type": "code",
      "metadata": {
        "id": "PUrZf3LLQCTE"
      },
      "source": [
        "get_ipython().system_raw('./ngrok authtoken $authtoken && ./ngrok tcp 25565 &')"
      ],
      "execution_count": null,
      "outputs": []
    },
    {
      "cell_type": "markdown",
      "metadata": {
        "id": "SbwFTDXABSkJ"
      },
      "source": [
        "### Download server java edition"
      ]
    },
    {
      "cell_type": "code",
      "metadata": {
        "id": "Gk_aCrLLBJyH"
      },
      "source": [
        "!wget https://launcher.mojang.com/v1/objects/bb2b6b1aefcd70dfd1892149ac3a215f6c636b07/server.jar"
      ],
      "execution_count": null,
      "outputs": []
    },
    {
      "cell_type": "code",
      "metadata": {
        "id": "HhBCNEyEDaya"
      },
      "source": [
        "!echo eula=true > eula.txt  #agree to eula"
      ],
      "execution_count": null,
      "outputs": []
    },
    {
      "cell_type": "markdown",
      "metadata": {
        "id": "_f0K2CqPUx4_"
      },
      "source": [
        "**Important: Now upload your server.properties file ** (You only need to do this the first time. Skip if you've already done before)"
      ]
    },
    {
      "cell_type": "code",
      "metadata": {
        "id": "JSuOCJ1uR05d"
      },
      "source": [
        "from google.colab import files\n",
        "\n",
        "source = files.upload()\n"
      ],
      "execution_count": null,
      "outputs": []
    },
    {
      "cell_type": "markdown",
      "metadata": {
        "id": "ycAP6dn9E2dI"
      },
      "source": [
        "### Start your server :)"
      ]
    },
    {
      "cell_type": "markdown",
      "metadata": {
        "id": "OAdXD-14W7i6"
      },
      "source": [
        "To connect to your server you can find the URL by going to https://dashboard.ngrok.com/status/tunnels\n",
        "Then under URL you'll find \"tcp://yourserverurl\" (omit \"tcp://\" when connecting\")"
      ]
    },
    {
      "cell_type": "code",
      "metadata": {
        "id": "GWj9mHA8Bzrt"
      },
      "source": [
        "!java -Xmx10240M -Xms10240M -jar server.jar nogui  #by default ive set 10240M = 10GB ram"
      ],
      "execution_count": null,
      "outputs": []
    },
    {
      "cell_type": "code",
      "metadata": {
        "id": "VexEYHI19C5g"
      },
      "source": [
        "#cleanup after done\n",
        "!kill $(ps aux | grep './ngrok' | awk '{print $2}')\n",
        "!rm server.jar \n",
        "!rm ngrok\n",
        "!rm ngrok-stable-linux-amd64.zip\n",
        "!rm eula.txt"
      ],
      "execution_count": null,
      "outputs": []
    }
  ]
}