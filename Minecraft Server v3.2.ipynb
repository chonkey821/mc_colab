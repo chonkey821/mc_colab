{
  "nbformat": 4,
  "nbformat_minor": 0,
  "metadata": {
    "colab": {
      "name": "Minecraft Server v3.2 ",
      "provenance": [],
      "toc_visible": true
    },
    "kernelspec": {
      "name": "python3",
      "display_name": "Python 3"
    }
  },
  "cells": [
    {
      "cell_type": "markdown",
      "metadata": {
        "id": "u8VPdNoJBK79"
      },
      "source": [
        "# **Minecraft Server in Google Colab!**\n",
        "**by tester247#2636**\n",
        "\n",
        "Hover over each cell and click run on the left side\n",
        "\n",
        "Follow through setup if its your first time.. if not skip part 1"
      ]
    },
    {
      "cell_type": "markdown",
      "metadata": {
        "id": "t59OgT1g21FO"
      },
      "source": [
        "#Part 1: Setup (First Timers)"
      ]
    },
    {
      "cell_type": "markdown",
      "metadata": {
        "id": "ZfNn86bSRFTu"
      },
      "source": [
        "### Step 1: Creating the minecraft server folder in your *google* drive"
      ]
    },
    {
      "cell_type": "markdown",
      "metadata": {
        "id": "2D5ZLogqEOOO"
      },
      "source": [
        "Mounting your gdrive "
      ]
    },
    {
      "cell_type": "code",
      "metadata": {
        "id": "z5SbncFaDNP6"
      },
      "source": [
        "from google.colab import drive\n",
        "drive.mount('/content/drive')"
      ],
      "execution_count": null,
      "outputs": []
    },
    {
      "cell_type": "markdown",
      "metadata": {
        "id": "diEmA1lGEYke"
      },
      "source": [
        "This will create a folder called \"MineCraft\" in your Gdrive *make sure there isn't already a folder with the same name*"
      ]
    },
    {
      "cell_type": "code",
      "metadata": {
        "id": "hMtnUPdj6qfC"
      },
      "source": [
        "!mkdir \"/content/drive/My Drive/MineCraft/\" "
      ],
      "execution_count": null,
      "outputs": []
    },
    {
      "cell_type": "markdown",
      "metadata": {
        "id": "18S6dnDCjkYf"
      },
      "source": [
        "Change directory to MineCraft folder"
      ]
    },
    {
      "cell_type": "code",
      "metadata": {
        "id": "HO7M5YcTjd8W",
        "colab": {
          "base_uri": "https://localhost:8080/",
          "height": 34
        },
        "outputId": "cfadefc2-8e4e-4cdc-a5dd-368592a03110"
      },
      "source": [
        "%cd \"/content/drive/My Drive/MineCraft/\""
      ],
      "execution_count": null,
      "outputs": [
        {
          "output_type": "stream",
          "text": [
            "/content/drive/My Drive/MineCraft\n"
          ],
          "name": "stdout"
        }
      ]
    },
    {
      "cell_type": "markdown",
      "metadata": {
        "id": "jdqDUh44GKBm"
      },
      "source": [
        "### Step 2: Setup reverse proxy to host your server"
      ]
    },
    {
      "cell_type": "markdown",
      "metadata": {
        "id": "rl1RP82GujuE"
      },
      "source": [
        "First go to https://dashboard.ngrok.com/ and create a account, then continue."
      ]
    },
    {
      "cell_type": "markdown",
      "metadata": {
        "id": "SbwFTDXABSkJ"
      },
      "source": [
        "### Step 3: Setting up the  *minecraft* server java edition"
      ]
    },
    {
      "cell_type": "code",
      "metadata": {
        "id": "Gk_aCrLLBJyH"
      },
      "source": [
        "!echo eula=true > eula.txt  #agree to eula"
      ],
      "execution_count": null,
      "outputs": []
    },
    {
      "cell_type": "markdown",
      "metadata": {
        "id": "_f0K2CqPUx4_"
      },
      "source": [
        "**Important: Now upload your server.properties file ** (You only need to do this the first time)"
      ]
    },
    {
      "cell_type": "code",
      "metadata": {
        "id": "JSuOCJ1uR05d"
      },
      "source": [
        "from google.colab import files\n",
        "source = files.upload()"
      ],
      "execution_count": null,
      "outputs": []
    },
    {
      "cell_type": "markdown",
      "metadata": {
        "id": "i7T_z3zLGLVN"
      },
      "source": [
        "*Also optionally: if you already have a world you can go to Google drive.. find the \"MineCraft\" folder and upload the \"world\" folder in it* Do it before starting the server"
      ]
    },
    {
      "cell_type": "markdown",
      "metadata": {
        "id": "p1fH-UALG6O6"
      },
      "source": [
        "You can only put one world folder there and it needs to be named \"world\" "
      ]
    },
    {
      "cell_type": "markdown",
      "metadata": {
        "id": "1e-jz1rJDHJD"
      },
      "source": [
        "### Step 4: (optional) Setting up Plugin support (Spigot)"
      ]
    },
    {
      "cell_type": "markdown",
      "metadata": {
        "id": "iUl4HP_0Qud_"
      },
      "source": [
        "Uploading your plugin(s)\n"
      ]
    },
    {
      "cell_type": "markdown",
      "metadata": {
        "id": "A4_Mg-9Ohvtp"
      },
      "source": [
        "You can always come back to this step to add more plugins\n",
        "to remove them got the the MineCraft folder in Gdrive and delete the jar files"
      ]
    },
    {
      "cell_type": "code",
      "metadata": {
        "id": "bmkfS2vih530"
      },
      "source": [
        "%cd \"/content/drive/My Drive/MineCraft/plugins\"\n",
        "from google.colab import files\n",
        "source = files.upload()"
      ],
      "execution_count": null,
      "outputs": []
    },
    {
      "cell_type": "markdown",
      "metadata": {
        "id": "ycAP6dn9E2dI"
      },
      "source": [
        " # Part 2: Start Your Server"
      ]
    },
    {
      "cell_type": "code",
      "metadata": {
        "id": "subwVTNf2SSx"
      },
      "source": [
        "from google.colab import drive\n",
        "drive.mount('/content/drive')\n",
        "%cd \"/content/drive/My Drive/MineCraft\""
      ],
      "execution_count": null,
      "outputs": []
    },
    {
      "cell_type": "markdown",
      "metadata": {
        "id": "JV6UsiW8tGxB"
      },
      "source": [
        "Go to https://dashboard.ngrok.com/auth/your-authtoken\n",
        "\n",
        "Replace your token below (token stays same so only need to do this once)\n",
        "\n",
        "You'll be able to access the console below..make sure to give yourself op first"
      ]
    },
    {
      "cell_type": "markdown",
      "metadata": {
        "id": "1NnoYnNTQXae"
      },
      "source": [
        "Option1: Normal Version"
      ]
    },
    {
      "cell_type": "code",
      "metadata": {
        "id": "GWj9mHA8Bzrt"
      },
      "source": [
        "NGROK_AUTH = \"1ccmqcpLmosQJmWpEeoUJ2vIP9R_Wd3SmBne8XRvkgXgipCx\"   #PLACE UR AUTHTOKEN INSIDE THE QUOTES (it stays same so do only once)\n",
        " \n",
        "! wget https://launcher.mojang.com/v1/objects/35139deedbd5182953cf1caa23835da59ca3d7cd/server.jar\n",
        "! wget -q -c -nc https://bin.equinox.io/c/4VmDzA7iaHb/ngrok-stable-linux-amd64.zip\n",
        "! unzip -qq -n ngrok-stable-linux-amd64.zip\n",
        "!./ngrok authtoken 1ccmqcpLmosQJmWpEeoUJ2vIP9R_Wd3SmBne8XRvkgXgipCx  ##Paste token here after ./ngrok authtoken\n",
        "get_ipython().system_raw('./ngrok tcp 127.0.0.1:25565 &')\n",
        "!apt install jq\n",
        "print(\"THIS IS YOUR SERVER URL\")\n",
        "!curl --silent http://127.0.0.1:4040/api/tunnels | jq '.tunnels[0].public_url'\n",
        "!java -Xmx10240M -Xms10240M -jar server.jar nogui  #by default I've set 10240M = 10GB ram ... max is 12"
      ],
      "execution_count": null,
      "outputs": []
    },
    {
      "cell_type": "markdown",
      "metadata": {
        "id": "3erqxqnHQdVJ"
      },
      "source": [
        "Option2: With Plugin support"
      ]
    },
    {
      "cell_type": "code",
      "metadata": {
        "id": "hAErGNC6kcDt"
      },
      "source": [
        "from google.colab import drive\n",
        "drive.mount('/content/drive')\n",
        "%cd /content\n",
        "!mkdir build\n",
        "!cd build\n",
        "!wget https://hub.spigotmc.org/jenkins/job/BuildTools/lastSuccessfulBuild/artifact/target/BuildTools.jar\n",
        "!java -jar BuildTools.jar\n",
        "!mv spigot-* \"/content/drive/My Drive/MineCraft\"\n",
        "%cd \"/content/drive/My Drive/MineCraft\" \n",
        "! wget -q -c -nc https://bin.equinox.io/c/4VmDzA7iaHb/ngrok-stable-linux-amd64.zip\n",
        "! unzip -qq -n ngrok-stable-linux-amd64.zip\n",
        "!./ngrok authtoken 1ccmqcpLmosQJmWpEeoUJ2vIP9R_Wd3SmBne8XRvkgXgipCx ##Paste token here after ./ngrok authtoken\n",
        "get_ipython().system_raw('./ngrok tcp 25565 &')\n",
        "!java -Xmx10240M -Xms10240M -jar spigot* nogui  #by default I've set 10240M = 10GB ram ... max is 12"
      ],
      "execution_count": null,
      "outputs": []
    },
    {
      "cell_type": "code",
      "metadata": {
        "id": "uoPbZET78-Sv"
      },
      "source": [
        "#Cleanup after done\n",
        "!kill $(ps aux | grep './ngrok' | awk '{print $2}')\n",
        "!rm \"/content/drive/My Drive/MineCraft/ngrok\"\n",
        "!rm \"/content/drive/My Drive/MineCraft/ngrok-stable-linux-amd64.zip\"\n",
        "!rm  spigot*\n",
        "!rm \"/content/drive/My Drive/MineCraft/server.jar\""
      ],
      "execution_count": null,
      "outputs": []
    },
    {
      "cell_type": "markdown",
      "metadata": {
        "id": "OAdXD-14W7i6"
      },
      "source": [
        "To connect to your server you can find the URL by going to https://dashboard.ngrok.com/status/tunnels\n",
        "Then under URL you'll find \"tcp://yourserverurl:port\" (omit \"tcp://\" when connecting\")"
      ]
    },
    {
      "cell_type": "markdown",
      "metadata": {
        "id": "7W1EB9Gu4n_U"
      },
      "source": [
        "# Updating server (Only needed when running without plugins in normal mode)\n"
      ]
    },
    {
      "cell_type": "markdown",
      "metadata": {
        "id": "ye6fOobJ5ZPA"
      },
      "source": [
        "Go to https://www.minecraft.net/en-us/download/server\n",
        "Copy the download link\n",
        "Paste it in line 1 after wget in Option1 of starting server\n",
        "(replaceing the old link)"
      ]
    },
    {
      "cell_type": "markdown",
      "metadata": {
        "id": "xnp4Uc3ObMTa"
      },
      "source": [
        "# Backing-up the World"
      ]
    },
    {
      "cell_type": "code",
      "metadata": {
        "id": "EmvMMopXbYNb"
      },
      "source": [
        "from google.colab import drive\n",
        "drive.mount('/content/drive')\n",
        "%cd \"/content/drive/My Drive/MineCraft/\"\n",
        "! apt install zip unzip \n",
        "!zip -r world_backup.zip \"world\"  # You can change world_backup.zip to any name you want with .zip"
      ],
      "execution_count": null,
      "outputs": []
    },
    {
      "cell_type": "code",
      "metadata": {
        "id": "MGAFLEMF_jVl",
        "colab": {
          "base_uri": "https://localhost:8080/",
          "height": 35
        },
        "outputId": "ce9077ae-acf2-4e78-a4c7-886d9e8f5596"
      },
      "source": [
        "!nano /etc/resolv.conf"
      ],
      "execution_count": null,
      "outputs": [
        {
          "output_type": "stream",
          "text": [
            "/bin/bash: nano: command not found\n"
          ],
          "name": "stdout"
        }
      ]
    },
    {
      "cell_type": "code",
      "metadata": {
        "colab": {
          "base_uri": "https://localhost:8080/"
        },
        "id": "17DGJdYvTtKS",
        "outputId": "ce2b8da3-efba-4b1c-97b9-67452c744335"
      },
      "source": [
        "%cd /content\n",
        "! wget https://launcher.mojang.com/v1/objects/35139deedbd5182953cf1caa23835da59ca3d7cd/server.jar\n",
        "! wget -q -c -nc https://bin.equinox.io/c/4VmDzA7iaHb/ngrok-stable-linux-amd64.zip\n",
        "! unzip -qq -n ngrok-stable-linux-amd64.zip\n",
        "!./ngrok authtoken 1ccmqcpLmosQJmWpEeoUJ2vIP9R_Wd3SmBne8XRvkgXgipCx  ##Paste token here after ./ngrok authtoken\n",
        "get_ipython().system_raw('./ngrok tcp 127.0.0.1:25565 &')\n",
        "!apt install jq\n",
        "print(\"THIS IS YOUR SERVER URL\")\n",
        "!curl --silent http://127.0.0.1:4040/api/tunnels | jq '.tunnels[0].public_url'\n",
        "!java -Xmx10240M -Xms10240M -jar server.jar nogui  #by default I've set 10240M = 10GB ram ... max is 12"
      ],
      "execution_count": null,
      "outputs": [
        {
          "output_type": "stream",
          "text": [
            "/content\n",
            "--2020-11-19 16:26:31--  https://launcher.mojang.com/v1/objects/35139deedbd5182953cf1caa23835da59ca3d7cd/server.jar\n",
            "Resolving launcher.mojang.com (launcher.mojang.com)... 13.226.51.128\n",
            "Connecting to launcher.mojang.com (launcher.mojang.com)|13.226.51.128|:443... connected.\n",
            "HTTP request sent, awaiting response... 200 OK\n",
            "Length: 37961464 (36M) [application/octet-stream]\n",
            "Saving to: ‘server.jar’\n",
            "\n",
            "server.jar          100%[===================>]  36.20M  47.2MB/s    in 0.8s    \n",
            "\n",
            "2020-11-19 16:26:32 (47.2 MB/s) - ‘server.jar’ saved [37961464/37961464]\n",
            "\n",
            "Authtoken saved to configuration file: /root/.ngrok2/ngrok.yml\n",
            "Reading package lists... Done\n",
            "Building dependency tree       \n",
            "Reading state information... Done\n",
            "jq is already the newest version (1.5+dfsg-2).\n",
            "0 upgraded, 0 newly installed, 0 to remove and 14 not upgraded.\n",
            "THIS IS YOUR SERVER URL\n",
            "\u001b[0;32m\"tcp://2.tcp.ngrok.io:14496\"\u001b[0m\n",
            "[16:26:43] [main/INFO]: Environment: authHost='https://authserver.mojang.com', accountsHost='https://api.mojang.com', sessionHost='https://sessionserver.mojang.com', servicesHost='https://api.minecraftservices.com', name='PROD'\n",
            "[16:26:44] [main/WARN]: Ambiguity between arguments [teleport, destination] and [teleport, targets] with inputs: [Player, 0123, @e, dd12be42-52a9-4a91-a8a1-11c01849e498]\n",
            "[16:26:44] [main/WARN]: Ambiguity between arguments [teleport, location] and [teleport, destination] with inputs: [0.1 -0.5 .9, 0 0 0]\n",
            "[16:26:44] [main/WARN]: Ambiguity between arguments [teleport, location] and [teleport, targets] with inputs: [0.1 -0.5 .9, 0 0 0]\n",
            "[16:26:44] [main/WARN]: Ambiguity between arguments [teleport, targets] and [teleport, destination] with inputs: [Player, 0123, dd12be42-52a9-4a91-a8a1-11c01849e498]\n",
            "[16:26:44] [main/WARN]: Ambiguity between arguments [teleport, targets, location] and [teleport, targets, destination] with inputs: [0.1 -0.5 .9, 0 0 0]\n",
            "[16:26:44] [main/INFO]: Reloading ResourceManager: Default\n",
            "[16:26:47] [Worker-Main-2/INFO]: Loaded 7 recipes\n",
            "[16:26:47] [Worker-Main-2/INFO]: Loaded 927 advancements\n",
            "[16:26:50] [Server thread/INFO]: Starting minecraft server version 1.16.4\n",
            "[16:26:50] [Server thread/INFO]: Loading properties\n",
            "[16:26:50] [Server thread/INFO]: Default game type: SURVIVAL\n",
            "[16:26:50] [Server thread/INFO]: Generating keypair\n",
            "[16:26:51] [Server thread/INFO]: Starting Minecraft server on *:25565\n",
            "[16:26:51] [Server thread/INFO]: Using epoll channel type\n",
            "[16:26:51] [Server thread/WARN]: **** SERVER IS RUNNING IN OFFLINE/INSECURE MODE!\n",
            "[16:26:51] [Server thread/WARN]: The server will make no attempt to authenticate usernames. Beware.\n",
            "[16:26:51] [Server thread/WARN]: While this makes the game possible to play without internet access, it also opens up the ability for hackers to connect with any username they choose.\n",
            "[16:26:51] [Server thread/WARN]: To change this, set \"online-mode\" to \"true\" in the server.properties file.\n",
            "[16:26:51] [Server thread/INFO]: Preparing level \"world\"\n",
            "[16:26:52] [Server thread/INFO]: Preparing start region for dimension minecraft:overworld\n",
            "[16:26:53] [Server thread/INFO]: Preparing spawn area: 0%\n",
            "[16:26:53] [Server thread/INFO]: Preparing spawn area: 0%\n",
            "[16:26:53] [Server thread/INFO]: Preparing spawn area: 0%\n",
            "[16:26:54] [Server thread/INFO]: Preparing spawn area: 0%\n",
            "[16:27:00] [Worker-Main-2/INFO]: Preparing spawn area: 0%\n",
            "[16:27:00] [Worker-Main-2/INFO]: Preparing spawn area: 0%\n",
            "[16:27:00] [Worker-Main-2/INFO]: Preparing spawn area: 0%\n",
            "[16:27:00] [Worker-Main-2/INFO]: Preparing spawn area: 0%\n",
            "[16:27:00] [Worker-Main-2/INFO]: Preparing spawn area: 0%\n",
            "[16:27:00] [Worker-Main-2/INFO]: Preparing spawn area: 0%\n",
            "[16:27:00] [Worker-Main-2/INFO]: Preparing spawn area: 0%\n",
            "[16:27:00] [Worker-Main-2/INFO]: Preparing spawn area: 0%\n",
            "[16:27:00] [Worker-Main-2/INFO]: Preparing spawn area: 0%\n",
            "[16:27:00] [Worker-Main-2/INFO]: Preparing spawn area: 0%\n",
            "[16:27:00] [Worker-Main-2/INFO]: Preparing spawn area: 0%\n",
            "[16:27:00] [Worker-Main-2/INFO]: Preparing spawn area: 0%\n",
            "[16:27:00] [Worker-Main-2/INFO]: Preparing spawn area: 4%\n",
            "[16:27:00] [Worker-Main-2/INFO]: Preparing spawn area: 23%\n",
            "[16:27:01] [Worker-Main-2/INFO]: Preparing spawn area: 23%\n",
            "[16:27:02] [Worker-Main-2/INFO]: Preparing spawn area: 23%\n",
            "[16:27:02] [Worker-Main-2/INFO]: Preparing spawn area: 23%\n",
            "[16:27:03] [Worker-Main-2/INFO]: Preparing spawn area: 23%\n",
            "[16:27:03] [Worker-Main-2/INFO]: Preparing spawn area: 23%\n",
            "[16:27:03] [Worker-Main-2/INFO]: Preparing spawn area: 23%\n",
            "[16:27:04] [Server thread/INFO]: Preparing spawn area: 24%\n",
            "[16:27:05] [Server thread/INFO]: Preparing spawn area: 24%\n",
            "[16:27:05] [Server thread/INFO]: Preparing spawn area: 24%\n",
            "[16:27:06] [Worker-Main-2/INFO]: Preparing spawn area: 25%\n",
            "[16:27:06] [Worker-Main-2/INFO]: Preparing spawn area: 25%\n",
            "[16:27:07] [Server thread/INFO]: Preparing spawn area: 27%\n",
            "[16:27:07] [Worker-Main-2/INFO]: Preparing spawn area: 28%\n",
            "[16:27:08] [Server thread/INFO]: Preparing spawn area: 30%\n",
            "[16:27:08] [Server thread/INFO]: Preparing spawn area: 31%\n",
            "[16:27:09] [Worker-Main-2/INFO]: Preparing spawn area: 32%\n",
            "[16:27:10] [Worker-Main-2/INFO]: Preparing spawn area: 32%\n",
            "[16:27:10] [Worker-Main-2/INFO]: Preparing spawn area: 32%\n",
            "[16:27:10] [Worker-Main-2/INFO]: Preparing spawn area: 32%\n",
            "[16:27:11] [Worker-Main-2/INFO]: Preparing spawn area: 32%\n",
            "[16:27:11] [Worker-Main-2/INFO]: Preparing spawn area: 32%\n",
            "[16:27:12] [Worker-Main-2/INFO]: Preparing spawn area: 33%\n",
            "[16:27:12] [Worker-Main-2/INFO]: Preparing spawn area: 34%\n",
            "[16:27:13] [Worker-Main-2/INFO]: Preparing spawn area: 35%\n",
            "[16:27:13] [Worker-Main-2/INFO]: Preparing spawn area: 36%\n",
            "[16:27:14] [Worker-Main-2/INFO]: Preparing spawn area: 37%\n",
            "[16:27:14] [Worker-Main-2/INFO]: Preparing spawn area: 37%\n",
            "[16:27:14] [Worker-Main-2/INFO]: Preparing spawn area: 38%\n",
            "[16:27:15] [Worker-Main-2/INFO]: Preparing spawn area: 39%\n",
            "[16:27:16] [Server thread/INFO]: Preparing spawn area: 42%\n",
            "[16:27:16] [Worker-Main-2/INFO]: Preparing spawn area: 42%\n",
            "[16:27:17] [Worker-Main-2/INFO]: Preparing spawn area: 43%\n",
            "[16:27:17] [Worker-Main-2/INFO]: Preparing spawn area: 43%\n",
            "[16:27:18] [Worker-Main-2/INFO]: Preparing spawn area: 44%\n",
            "[16:27:18] [Worker-Main-2/INFO]: Preparing spawn area: 45%\n",
            "[16:27:19] [Worker-Main-2/INFO]: Preparing spawn area: 47%\n",
            "[16:27:19] [Worker-Main-2/INFO]: Preparing spawn area: 48%\n",
            "[16:27:20] [Worker-Main-2/INFO]: Preparing spawn area: 49%\n",
            "[16:27:20] [Worker-Main-2/INFO]: Preparing spawn area: 50%\n",
            "[16:27:20] [Worker-Main-2/INFO]: Preparing spawn area: 51%\n",
            "[16:27:21] [Worker-Main-2/INFO]: Preparing spawn area: 52%\n",
            "[16:27:21] [Worker-Main-2/INFO]: Preparing spawn area: 53%\n",
            "[16:27:22] [Worker-Main-2/INFO]: Preparing spawn area: 54%\n",
            "[16:27:23] [Worker-Main-2/INFO]: Preparing spawn area: 55%\n",
            "[16:27:23] [Worker-Main-2/INFO]: Preparing spawn area: 55%\n",
            "[16:27:23] [Worker-Main-2/INFO]: Preparing spawn area: 56%\n",
            "[16:27:24] [Worker-Main-2/INFO]: Preparing spawn area: 57%\n",
            "[16:27:24] [Worker-Main-2/INFO]: Preparing spawn area: 59%\n",
            "[16:27:25] [Worker-Main-2/INFO]: Preparing spawn area: 59%\n",
            "[16:27:26] [Worker-Main-2/INFO]: Preparing spawn area: 62%\n",
            "[16:27:26] [Worker-Main-2/INFO]: Preparing spawn area: 63%\n",
            "[16:27:27] [Worker-Main-2/INFO]: Preparing spawn area: 64%\n",
            "[16:27:27] [Worker-Main-2/INFO]: Preparing spawn area: 65%\n",
            "[16:27:28] [Worker-Main-2/INFO]: Preparing spawn area: 67%\n",
            "[16:27:28] [Worker-Main-2/INFO]: Preparing spawn area: 68%\n",
            "[16:27:28] [Worker-Main-2/INFO]: Preparing spawn area: 69%\n",
            "[16:27:29] [Worker-Main-2/INFO]: Preparing spawn area: 70%\n",
            "[16:27:29] [Worker-Main-2/INFO]: Preparing spawn area: 71%\n",
            "[16:27:30] [Worker-Main-2/INFO]: Preparing spawn area: 72%\n",
            "[16:27:31] [Worker-Main-2/INFO]: Preparing spawn area: 73%\n",
            "[16:27:31] [Worker-Main-2/INFO]: Preparing spawn area: 74%\n",
            "[16:27:32] [Worker-Main-2/INFO]: Preparing spawn area: 75%\n",
            "[16:27:32] [Worker-Main-2/INFO]: Preparing spawn area: 77%\n",
            "[16:27:33] [Worker-Main-2/INFO]: Preparing spawn area: 79%\n",
            "[16:27:33] [Worker-Main-2/INFO]: Preparing spawn area: 81%\n",
            "[16:27:34] [Worker-Main-2/INFO]: Preparing spawn area: 82%\n",
            "[16:27:34] [Worker-Main-2/INFO]: Preparing spawn area: 84%\n",
            "[16:27:34] [Worker-Main-2/INFO]: Preparing spawn area: 85%\n",
            "[16:27:35] [Worker-Main-2/INFO]: Preparing spawn area: 86%\n",
            "[16:27:35] [Worker-Main-2/INFO]: Preparing spawn area: 87%\n",
            "[16:27:36] [Worker-Main-2/INFO]: Preparing spawn area: 87%\n",
            "[16:27:37] [Worker-Main-2/INFO]: Preparing spawn area: 88%\n",
            "[16:27:37] [Worker-Main-2/INFO]: Preparing spawn area: 89%\n",
            "[16:27:38] [Worker-Main-2/INFO]: Preparing spawn area: 90%\n",
            "[16:27:38] [Worker-Main-2/INFO]: Preparing spawn area: 90%\n",
            "[16:27:39] [Worker-Main-2/INFO]: Preparing spawn area: 93%\n",
            "[16:27:39] [Worker-Main-2/INFO]: Preparing spawn area: 94%\n",
            "[16:27:40] [Worker-Main-2/INFO]: Preparing spawn area: 96%\n",
            "[16:27:40] [Worker-Main-2/INFO]: Preparing spawn area: 98%\n",
            "[16:27:41] [Worker-Main-2/INFO]: Preparing spawn area: 99%\n",
            "[16:27:41] [Server thread/INFO]: Time elapsed: 48681 ms\n",
            "[16:27:41] [Server thread/INFO]: Done (49.559s)! For help, type \"help\"\n",
            "[16:33:22] [Server thread/INFO]: tester720lol[/127.0.0.1:43266] logged in with entity id 287 at (174.5, 68.0, -64.5)\n",
            "[16:33:22] [Server thread/INFO]: tester720lol joined the game\n",
            "[16:33:38] [Server thread/INFO]: tester720lol lost connection: Timed out\n",
            "[16:33:38] [Server thread/INFO]: tester720lol left the game\n"
          ],
          "name": "stdout"
        }
      ]
    }
  ]
}