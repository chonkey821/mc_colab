{
  "nbformat": 4,
  "nbformat_minor": 0,
  "metadata": {
    "colab": {
      "name": "Minecraft Server v3.4",
      "provenance": [],
      "toc_visible": true
    },
    "kernelspec": {
      "name": "python3",
      "display_name": "Python 3"
    }
  },
  "cells": [
    {
      "cell_type": "markdown",
      "metadata": {
        "id": "u8VPdNoJBK79"
      },
      "source": [
        "# **Minecraft Server in Google Colab!**\n",
        "**by tester247#2636**\n",
        "\n",
        "Hover over each cell and click run on the left side\n",
        "\n",
        "Follow through setup if its your first time.. if not skip part 1\n",
        "\n",
        "If you have allready uploaded all your server files in \"Minecraft\" folder in Gdrive then skip part 1"
      ]
    },
    {
      "cell_type": "markdown",
      "metadata": {
        "id": "RdmuANuqqbgi"
      },
      "source": [
        "if you uploaded a zipped copy of all your server files\n",
        "then run this"
      ]
    },
    {
      "cell_type": "code",
      "metadata": {
        "id": "9cax4_qrqYX5"
      },
      "source": [
        "%cd /content/drive/MyDrive/\n",
        "!unzip MineCraft.zip #name of the zip file (makesure this zip has a folder called \"MineCraft\" inside with all files )"
      ],
      "execution_count": null,
      "outputs": []
    },
    {
      "cell_type": "markdown",
      "metadata": {
        "id": "t59OgT1g21FO"
      },
      "source": [
        "#Part 1: Setup (First Timers)"
      ]
    },
    {
      "cell_type": "markdown",
      "metadata": {
        "id": "ZfNn86bSRFTu"
      },
      "source": [
        "### Step 1: Creating the minecraft server folder in your *google* drive"
      ]
    },
    {
      "cell_type": "markdown",
      "metadata": {
        "id": "2D5ZLogqEOOO"
      },
      "source": [
        "Mounting your gdrive "
      ]
    },
    {
      "cell_type": "code",
      "metadata": {
        "id": "z5SbncFaDNP6"
      },
      "source": [
        "from google.colab import drive\n",
        "drive.mount('/content/drive')"
      ],
      "execution_count": null,
      "outputs": []
    },
    {
      "cell_type": "markdown",
      "metadata": {
        "id": "diEmA1lGEYke"
      },
      "source": [
        "This will create a folder called \"MineCraft\" in your Gdrive *make sure there isn't already a folder with the same name*"
      ]
    },
    {
      "cell_type": "code",
      "metadata": {
        "id": "hMtnUPdj6qfC"
      },
      "source": [
        "!mkdir \"/content/drive/My Drive/MineCraft/\" "
      ],
      "execution_count": null,
      "outputs": []
    },
    {
      "cell_type": "markdown",
      "metadata": {
        "id": "18S6dnDCjkYf"
      },
      "source": [
        "Change directory to MineCraft folder"
      ]
    },
    {
      "cell_type": "code",
      "metadata": {
        "id": "HO7M5YcTjd8W"
      },
      "source": [
        "%cd \"/content/drive/My Drive/MineCraft/\""
      ],
      "execution_count": null,
      "outputs": []
    },
    {
      "cell_type": "markdown",
      "metadata": {
        "id": "jdqDUh44GKBm"
      },
      "source": [
        "### Step 2: Setup reverse proxy to host your server"
      ]
    },
    {
      "cell_type": "markdown",
      "metadata": {
        "id": "rl1RP82GujuE"
      },
      "source": [
        "First go to https://dashboard.ngrok.com/ and create a account, then continue."
      ]
    },
    {
      "cell_type": "markdown",
      "metadata": {
        "id": "SbwFTDXABSkJ"
      },
      "source": [
        "### Step 3: Setting up the  *minecraft* server java edition"
      ]
    },
    {
      "cell_type": "code",
      "metadata": {
        "id": "Gk_aCrLLBJyH"
      },
      "source": [
        "!echo eula=true > eula.txt  #agree to eula"
      ],
      "execution_count": null,
      "outputs": []
    },
    {
      "cell_type": "markdown",
      "metadata": {
        "id": "_f0K2CqPUx4_"
      },
      "source": [
        "**Important: Now upload your server.properties file ** (You only need to do this the first time)"
      ]
    },
    {
      "cell_type": "code",
      "metadata": {
        "id": "JSuOCJ1uR05d"
      },
      "source": [
        "from google.colab import files\n",
        "source = files.upload()"
      ],
      "execution_count": null,
      "outputs": []
    },
    {
      "cell_type": "markdown",
      "metadata": {
        "id": "i7T_z3zLGLVN"
      },
      "source": [
        "*Also optionally: if you already have a world you can go to Google drive.. find the \"MineCraft\" folder and upload the \"world\" folder in it* Do it before starting the server"
      ]
    },
    {
      "cell_type": "markdown",
      "metadata": {
        "id": "p1fH-UALG6O6"
      },
      "source": [
        "You can only put one world folder there and it needs to be named \"world\" "
      ]
    },
    {
      "cell_type": "markdown",
      "metadata": {
        "id": "1e-jz1rJDHJD"
      },
      "source": [
        "### Step 4:Setting up Plugin support (Spigot)"
      ]
    },
    {
      "cell_type": "markdown",
      "metadata": {
        "id": "iUl4HP_0Qud_"
      },
      "source": [
        "Uploading your plugin(s)\n"
      ]
    },
    {
      "cell_type": "markdown",
      "metadata": {
        "id": "A4_Mg-9Ohvtp"
      },
      "source": [
        "You can always come back to this step to add more plugins\n",
        "to remove them got the the MineCraft folder in Gdrive and delete the jar files"
      ]
    },
    {
      "cell_type": "code",
      "metadata": {
        "id": "bmkfS2vih530"
      },
      "source": [
        "%cd \"/content/drive/My Drive/MineCraft/plugins\"\n",
        "from google.colab import files\n",
        "source = files.upload()"
      ],
      "execution_count": null,
      "outputs": []
    },
    {
      "cell_type": "markdown",
      "metadata": {
        "id": "ycAP6dn9E2dI"
      },
      "source": [
        " # Part 2: Start Your Server"
      ]
    },
    {
      "cell_type": "markdown",
      "metadata": {
        "id": "JV6UsiW8tGxB"
      },
      "source": [
        "Go to https://dashboard.ngrok.com/auth/your-authtoken\n",
        "\n",
        "Replace your token below (token stays same so only need to do this once)\n",
        "\n",
        "You'll be able to access the console below..make sure to give yourself op first"
      ]
    },
    {
      "cell_type": "code",
      "metadata": {
        "id": "hAErGNC6kcDt"
      },
      "source": [
        "NGROK_AUTH = \"\" ##Paste token here between the quotes\n",
        "\n",
        "from google.colab import drive\n",
        "drive.mount('/content/drive')\n",
        "%cd \"/content/drive/My Drive/MineCraft\"\n",
        "!wget https://cdn.getbukkit.org/spigot/spigot-1.16.3.jar #spigot jar file link here\n",
        "! wget -q -c -nc https://bin.equinox.io/c/4VmDzA7iaHb/ngrok-stable-linux-amd64.zip #ngork files\n",
        "! unzip -qq -n ngrok-stable-linux-amd64.zip\n",
        "!./ngrok authtoken $NGROK_AUTH # starting ngork tunnel\n",
        "get_ipython().system_raw('./ngrok tcp 25565 &')\n",
        "!apt install jq\n",
        "print(\"THIS IS YOUR SERVER URL\")\n",
        "!curl --silent http://127.0.0.1:4040/api/tunnels | jq '.tunnels[0].public_url' # Displaying server link\n",
        "!java -Xmx10240M -Xms10240M -jar spigot* nogui  #by default I've set 10240M = 10GB ram ... for using max ram remove the -Xmx10240M -Xms10240M part"
      ],
      "execution_count": null,
      "outputs": []
    },
    {
      "cell_type": "markdown",
      "metadata": {
        "id": "vl5laYdvYeHn"
      },
      "source": [
        "For restarting server stop the above cell and run this"
      ]
    },
    {
      "cell_type": "code",
      "metadata": {
        "id": "j1hYVK6ZYGHD"
      },
      "source": [
        "!rm  spigot*  #removing and redownloading spigot jar file to prevent errors\n",
        "!wget https://cdn.getbukkit.org/spigot/spigot-1.16.3.jar # jar file link\n",
        "!java -Xmx10240M -Xms10240M -jar spigot* nogui  #by default I've set 10240M = 10GB ram ... for using max ram remove the -Xmx10240M -Xms10240M part"
      ],
      "execution_count": null,
      "outputs": []
    },
    {
      "cell_type": "markdown",
      "metadata": {
        "id": "gSwdkzx1aTe9"
      },
      "source": [
        "Cleanup after done"
      ]
    },
    {
      "cell_type": "code",
      "metadata": {
        "id": "uoPbZET78-Sv"
      },
      "source": [
        "!kill $(ps aux | grep './ngrok' | awk '{print $2}') #stops ngork tunnel\n",
        "!rm \"/content/drive/My Drive/MineCraft/ngrok\"\n",
        "!rm \"/content/drive/My Drive/MineCraft/ngrok-stable-linux-amd64.zip\"\n",
        "!rm  spigot*    #removes ngork files and spigot jar files because they need to be downloaded every time to prevent errors"
      ],
      "execution_count": null,
      "outputs": []
    },
    {
      "cell_type": "markdown",
      "metadata": {
        "id": "OAdXD-14W7i6"
      },
      "source": [
        "To connect to your server you can find the URL by going to https://dashboard.ngrok.com/status/tunnels\n",
        "Then under URL you'll find \"tcp://yourserverurl:port\" (omit \"tcp://\" when connecting\") OR just look at the url in the output"
      ]
    },
    {
      "cell_type": "markdown",
      "metadata": {
        "id": "7W1EB9Gu4n_U"
      },
      "source": [
        "# Updating server\n"
      ]
    },
    {
      "cell_type": "markdown",
      "metadata": {
        "id": "ye6fOobJ5ZPA"
      },
      "source": [
        "Go to https://getbukkit.org/download/spigot\n",
        "\n",
        "Click on download for the version you want\n",
        "\n",
        "Right click the .jar file link and copy the link\n",
        "\n",
        "\n",
        "replace that link in line 6 of start your server block\n",
        "and line 2 of restart server block\n",
        "\n",
        "\n",
        "\n",
        "---\n",
        "\n",
        "\n",
        "\n",
        "---\n",
        "\n"
      ]
    },
    {
      "cell_type": "markdown",
      "metadata": {
        "id": "xnp4Uc3ObMTa"
      },
      "source": [
        "# Backing-up the World"
      ]
    },
    {
      "cell_type": "code",
      "metadata": {
        "id": "EmvMMopXbYNb"
      },
      "source": [
        "from google.colab import drive\n",
        "drive.mount('/content/drive')\n",
        "%cd \"/content/drive/My Drive/MineCraft/\"\n",
        "! apt install zip unzip \n",
        "!zip -r world_backup.zip \"world\"  # You can change world_backup.zip to any name you want with .zip"
      ],
      "execution_count": null,
      "outputs": []
    }
  ]
}