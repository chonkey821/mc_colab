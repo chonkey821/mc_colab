{
  "nbformat": 4,
  "nbformat_minor": 0,
  "metadata": {
    "colab": {
      "name": "Minecraft Server v4.0",
      "provenance": [],
      "toc_visible": true
    },
    "kernelspec": {
      "name": "python3",
      "display_name": "Python 3"
    }
  },
  "cells": [
    {
      "cell_type": "markdown",
      "metadata": {
        "id": "u8VPdNoJBK79"
      },
      "source": [
        "# **Minecraft Server in Google Colab!**\n",
        "**by tester247#2636**\n",
        "\n",
        "Hover over each cell and click run on the left side\n",
        "\n",
        "Follow through setup if its your first time.. if not skip part 1\n",
        "\n",
        "If you have allready uploaded all your server files in \"Minecraft\" folder in Gdrive then skip part 1"
      ]
    },
    {
      "cell_type": "code",
      "metadata": {
        "id": "ChNjr-Yixk2j"
      },
      "source": [
        "#If you already have all your server files then put them in a folder called \"MineCraft\"\n",
        "#Make sure the main jar file (spigot, vanilla, forge,etc) is named server.jar\n",
        "#zip that folder..name it MineCraft.zip and upload it to the main directory of your Gdrive\n",
        "#run this sell to unzip the contents and you can now skip part 1\n",
        "\n",
        "from google.colab import drive\n",
        "drive.mount('/content/drive')\n",
        "%cd \"/content/drive/My Drive/\n",
        "!unzip MineCraft.zip"
      ],
      "execution_count": null,
      "outputs": []
    },
    {
      "cell_type": "markdown",
      "metadata": {
        "id": "t59OgT1g21FO"
      },
      "source": [
        "#Part 1: Setup (First Timers)"
      ]
    },
    {
      "cell_type": "markdown",
      "metadata": {
        "id": "jdqDUh44GKBm"
      },
      "source": [
        "### Step 1: Setup reverse proxy to host your server"
      ]
    },
    {
      "cell_type": "markdown",
      "metadata": {
        "id": "rl1RP82GujuE"
      },
      "source": [
        "First go to https://dashboard.ngrok.com/ and create a account, then continue."
      ]
    },
    {
      "cell_type": "markdown",
      "metadata": {
        "id": "SbwFTDXABSkJ"
      },
      "source": [
        "### Step 2: Setting up all the server files"
      ]
    },
    {
      "cell_type": "code",
      "metadata": {
        "id": "Gk_aCrLLBJyH"
      },
      "source": [
        "#Attaching your google drive to store the server files\n",
        "drive.mount('/content/drive')\n",
        "\n",
        "# Create the directory which will be used for the server\n",
        "#This will create a folder called \"MineCraft\" in your Gdrive \n",
        "#make sure there isn't already a folder with the same name\n",
        "\n",
        "!mkdir \"/content/drive/My Drive/MineCraft\"\n",
        "\n",
        "#Agree to EULA\n",
        "%cd \"/content/drive/My Drive/MineCraft\"\n",
        "!echo eula=true > eula.txt\n",
        "\n",
        "#UPLOADING your server.properties file\n",
        "#in your properties file make sure the server ip is blank, server port is 25565, and online mode is set to false\n",
        "#also if using your own world then make sure the level-name entry matches excactly with your world folder name\n",
        "from google.colab import files\n",
        "source = files.upload()"
      ],
      "execution_count": null,
      "outputs": []
    },
    {
      "cell_type": "code",
      "metadata": {
        "id": "M79hKu852X3-"
      },
      "source": [
        "#Optional\n",
        "#If you have your own world whose name you have already entered in the properties file\n",
        "#Then..select the world folder (all three if nether end over are seprate) and zip them\n",
        "#Rename to world.zip and run this cell to upload and unzip\n",
        "%cd \"/content/drive/My Drive/MineCraft\"\n",
        "from google.colab import files\n",
        "source = files.upload()\n",
        "!unzip world.zip"
      ],
      "execution_count": null,
      "outputs": []
    },
    {
      "cell_type": "code",
      "metadata": {
        "id": "2dKfGssq4UCk"
      },
      "source": [
        "#Upload your plugins \n",
        "!mkdir \"/content/drive/My Drive/MineCraft/plugins\"\n",
        "%cd \"/content/drive/My Drive/MineCraft/plugins\"\n",
        "from google.colab import files\n",
        "source = files.upload()"
      ],
      "execution_count": null,
      "outputs": []
    },
    {
      "cell_type": "markdown",
      "metadata": {
        "id": "A4_Mg-9Ohvtp"
      },
      "source": [
        "You can always come back to this step to add more plugins\n",
        "to remove them go the the MineCraft folder in Gdrive and delete the jar files"
      ]
    },
    {
      "cell_type": "markdown",
      "metadata": {
        "id": "ycAP6dn9E2dI"
      },
      "source": [
        " # Part 2: Start Your Server"
      ]
    },
    {
      "cell_type": "code",
      "metadata": {
        "id": "hAErGNC6kcDt"
      },
      "source": [
        "!pip -q install pyngrok\n",
        "import os\n",
        "import re\n",
        "from pyngrok import conf, ngrok\n",
        "\n",
        "#Set your timezone for correct time in logs/console\n",
        "!rm /etc/localtime\n",
        "!ln -s /usr/share/zoneinfo/Asia/Kolkata /etc/localtime\n",
        "!date\n",
        "\n",
        "#You can find your authtoken at https://dashboard.ngrok.com/auth/your-authtoken\n",
        "NGROK_AUTH = \"\" ##Paste token here between the quotes\n",
        "\n",
        "#Making sure google drive is mounted\n",
        "from google.colab import drive\n",
        "drive.mount('/content/drive')\n",
        "%cd \"/content/drive/MyDrive/MineCraft\"\n",
        "\n",
        "#Updating JAVA\n",
        "# Update the package lists\n",
        "!sudo apt update &>/dev/null && echo \"apt cache successfully updated\" || echo \"apt cache update failed, you might receive stale packages\"\n",
        "# Install OpenJDK 15\n",
        "!wget -qO - https://adoptopenjdk.jfrog.io/adoptopenjdk/api/gpg/key/public | sudo apt-key add -\n",
        "!sudo add-apt-repository --yes https://adoptopenjdk.jfrog.io/adoptopenjdk/deb/ &>/dev/null || echo \"Failed to add repo. Still can be ignored if openjdk15 gets installed.\"\n",
        "!sudo apt-get install adoptopenjdk-15-hotspot-jre &>/dev/null && echo \"Yay! Openjdk15 has been successfully installed.\" || echo \"Failed to install OpenJdk15.\"\n",
        "#Perform java version check\n",
        "java_ver = !java -version 2>&1 | awk -F[\\\"\\.] -v OFS=. 'NR==1{print $2}'\n",
        "if java_ver[0] == \"15\" :\n",
        "  print(\"Openjdk15 is working correctly, you are good to go.\")\n",
        "else:\n",
        "  print(\"Openjdk15 doesn't seems to be installed or isn't working, falling back to java\", java_ver[0], \". You might experience reduced performance.\")\n",
        "\n",
        "#Downloading the server jar\n",
        "# Replace \"1.16.3\" with your desired server version.\n",
        "version = '1.16.3'\n",
        "\n",
        "from google.colab import drive\n",
        "import requests\n",
        "\n",
        "#Removing the server jar file if its already there (as sometimes it doesn't run unless downloaded everytime)\n",
        "!rm \"/content/drive/My Drive/MineCraft/server.jar\"\n",
        "\n",
        "print('Downloading to Google Drive...')\n",
        " #if using some other version (vanilla, paper, forge, etc.. then put direct url under single quotes below )\n",
        "url = 'https://cdn.getbukkit.org/spigot/spigot-' + version + '.jar' \n",
        "\n",
        "r = requests.get(url)\n",
        "\n",
        "if r.status_code is 200:\n",
        "  with open('/content/drive/My Drive/MineCraft/server.jar', 'wb') as f:\n",
        "    f.write(r.content)\n",
        "  print('Done!')\n",
        "else:\n",
        "  print('Error '+ str(r.status_code) + '! Most likely you entered a unsupported version. Try running the code again if you think that shouldn\\'t have happened.')\n",
        "\n",
        "\n",
        "! ngrok authtoken  $NGROK_AUTH # login to ngrok\n",
        "\n",
        "\n",
        "# Connect to ngrok\n",
        "#by default us region shoud work the best.. if any connection issues u can change it to\n",
        "#eu,ap,au,sa,jp or in\n",
        "get_ipython().system_raw('ngrok tcp -region us 25565 &') \n",
        "\n",
        "#Get public IP \n",
        "!apt install jq\n",
        "print(\"THIS IS YOUR SERVER URL\")\n",
        "!curl --silent http://127.0.0.1:4040/api/tunnels | jq '.tunnels[0].public_url'\n",
        "\n",
        "#Starting server (ive set min and max 10GB memory allocation )\n",
        "print('Starting server...')\n",
        "!java -Xmx10G -Xms10G -XX:+UseG1GC -XX:+ParallelRefProcEnabled -XX:MaxGCPauseMillis=200 -XX:+UnlockExperimentalVMOptions -XX:+DisableExplicitGC -XX:+AlwaysPreTouch -XX:G1NewSizePercent=30 -XX:G1MaxNewSizePercent=40 -XX:G1HeapRegionSize=8M -XX:G1ReservePercent=20 -XX:G1HeapWastePercent=5 -XX:G1MixedGCCountTarget=4 -XX:InitiatingHeapOccupancyPercent=15 -XX:G1MixedGCLiveThresholdPercent=90 -XX:G1RSetUpdatingPauseTimePercent=5 -XX:SurvivorRatio=32 -XX:+PerfDisableSharedMem -XX:MaxTenuringThreshold=1 -Dusing.aikars.flags=https://mcflags.emc.gs -Daikars.new.flags=true -jar server.jar nogui\n"
      ],
      "execution_count": null,
      "outputs": []
    },
    {
      "cell_type": "markdown",
      "metadata": {
        "id": "vl5laYdvYeHn"
      },
      "source": [
        "For restarting server stop the above cell and run this"
      ]
    },
    {
      "cell_type": "code",
      "metadata": {
        "id": "j1hYVK6ZYGHD"
      },
      "source": [
        "from google.colab import drive\n",
        "import requests\n",
        "\n",
        "#Removing the server jar file if its already there (as sometimes it doesn't run unless downloaded everytime)\n",
        "!rm \"/content/drive/My Drive/MineCraft/server.jar\"\n",
        "\n",
        "print('Downloading to Google Drive...')\n",
        " #if using some other version (vanilla, paper, forge, etc.. then put direct url under single quotes below )\n",
        "url = 'https://cdn.getbukkit.org/spigot/spigot-' + version + '.jar' \n",
        "\n",
        "r = requests.get(url)\n",
        "\n",
        "if r.status_code is 200:\n",
        "  with open('/content/drive/My Drive/MineCraft/server.jar', 'wb') as f:\n",
        "    f.write(r.content)\n",
        "  print('Done!')\n",
        "else:\n",
        "  print('Error '+ str(r.status_code) + '! Most likely you entered a unsupported version. Try running the code again if you think that shouldn\\'t have happened.')\n",
        "print('Starting server...')\n",
        "!java -Xmx10G -Xms10G -XX:+UseG1GC -XX:+ParallelRefProcEnabled -XX:MaxGCPauseMillis=200 -XX:+UnlockExperimentalVMOptions -XX:+DisableExplicitGC -XX:+AlwaysPreTouch -XX:G1NewSizePercent=30 -XX:G1MaxNewSizePercent=40 -XX:G1HeapRegionSize=8M -XX:G1ReservePercent=20 -XX:G1HeapWastePercent=5 -XX:G1MixedGCCountTarget=4 -XX:InitiatingHeapOccupancyPercent=15 -XX:G1MixedGCLiveThresholdPercent=90 -XX:G1RSetUpdatingPauseTimePercent=5 -XX:SurvivorRatio=32 -XX:+PerfDisableSharedMem -XX:MaxTenuringThreshold=1 -Dusing.aikars.flags=https://mcflags.emc.gs -Daikars.new.flags=true -jar server.jar nogui"
      ],
      "execution_count": null,
      "outputs": []
    },
    {
      "cell_type": "markdown",
      "metadata": {
        "id": "gSwdkzx1aTe9"
      },
      "source": [
        "Stop ngrok tunnel after done"
      ]
    },
    {
      "cell_type": "code",
      "metadata": {
        "id": "uoPbZET78-Sv"
      },
      "source": [
        "!kill $(ps aux | grep 'ngrok' | awk '{print $2}') "
      ],
      "execution_count": null,
      "outputs": []
    },
    {
      "cell_type": "markdown",
      "metadata": {
        "id": "xnp4Uc3ObMTa"
      },
      "source": [
        "# Backing-up the World"
      ]
    },
    {
      "cell_type": "markdown",
      "metadata": {
        "id": "IF5PXdfp-SFZ"
      },
      "source": [
        "go to google drive and download the world folder duh"
      ]
    }
  ]
}